{
 "cells": [
  {
   "cell_type": "markdown",
   "id": "f98fd85b",
   "metadata": {},
   "source": [
    "# Assignment: Lab 3"
   ]
  },
  {
   "cell_type": "markdown",
   "id": "434c6a04",
   "metadata": {},
   "source": [
    "## Instructions  \n",
    "  \n",
    "This is the template file for the assignment of Module 4 called \"Lab 3.\" Please carefully follow the instructions below.  \n",
    "  \n",
    "1. Rename this file by filling out your surname and first name in the file name. For example, if your surname is Ilagan and if your first name is Joben, then rename the file to ILAGAN-JOBEN-lab3.ipynb.\n",
    "2. Fill out the markdown cell just above Problem 1 with your student details as indicated.\n",
    "3. To submit this file, first, upload your file to your GitHub repository and, second, submit your repository link to the assignment on Canvas."
   ]
  },
  {
   "cell_type": "markdown",
   "id": "f971107e",
   "metadata": {},
   "source": [
    "## Student Details  \n",
    "ID Number: 205522  \n",
    "Surname: Yu  \n",
    "Year and Course: 2 BS ITE  "
   ]
  },
  {
   "cell_type": "markdown",
   "id": "85bd864b",
   "metadata": {},
   "source": [
    "## Problem 1: Caesar Cipher (11 points)  \n",
    "  \n",
    "A *cipher* is a way of disguising a message by encoding it.  \n",
    "  \n",
    "One of the simplest ciphers is a \"shift cipher\" known as the Caesar cipher. The way it works is very simple.  \n",
    "  \n",
    "1. Start with a message, such as \"ATTACK AT DAWN\".\n",
    "2. Choose a number, such as 3.\n",
    "3. Shift all letters in the message to the right by the chosen number. In this case, shifting all letters in \"ATTACK AT DAWN\" by 3 results in the message \"DWWDFN DW GDZQ\".  \n",
    "  \n",
    "**Write a function called problem_1 that takes two positional arguments message and shift. It should apply the Caesar cipher to a message and return the result.**"
   ]
  },
  {
   "cell_type": "code",
   "execution_count": 22,
   "id": "3751a9ee",
   "metadata": {},
   "outputs": [],
   "source": [
    "def problem_1(word, number):\n",
    "    new_word = ''\n",
    "    for i in word:\n",
    "        if ord(i) >= 65 and ord(i) <= 90:\n",
    "            i = chr((ord(i) + number - 65) % 26 + 65)\n",
    "            if ord(i) == 32:\n",
    "                None\n",
    "        new_word = new_word + i\n",
    "    return(new_word)"
   ]
  },
  {
   "cell_type": "code",
   "execution_count": 23,
   "id": "ab1d8580",
   "metadata": {},
   "outputs": [
    {
     "data": {
      "text/plain": [
       "'DWWDFN DW GDZQ'"
      ]
     },
     "execution_count": 23,
     "metadata": {},
     "output_type": "execute_result"
    }
   ],
   "source": [
    "problem_1(\"ATTACK AT DAWN\", 3)"
   ]
  },
  {
   "cell_type": "code",
   "execution_count": 24,
   "id": "0cb4fafd",
   "metadata": {
    "scrolled": true
   },
   "outputs": [
    {
     "data": {
      "text/plain": [
       "'A'"
      ]
     },
     "execution_count": 24,
     "metadata": {},
     "output_type": "execute_result"
    }
   ],
   "source": [
    "problem_1(\"Z\", 1)"
   ]
  },
  {
   "cell_type": "code",
   "execution_count": 25,
   "id": "9a9865e0",
   "metadata": {},
   "outputs": [
    {
     "data": {
      "text/plain": [
       "'B'"
      ]
     },
     "execution_count": 25,
     "metadata": {},
     "output_type": "execute_result"
    }
   ],
   "source": [
    "problem_1(\"Z\", 2)"
   ]
  },
  {
   "cell_type": "code",
   "execution_count": null,
   "id": "89a99132",
   "metadata": {},
   "outputs": [],
   "source": []
  },
  {
   "cell_type": "markdown",
   "id": "24452eca",
   "metadata": {},
   "source": [
    "## Problem 2: Social Media Relationships (13 points) \n",
    "  \n",
    "Let us pretend that you are building a new app. Your app supports social media functionality, which means that users can have relationships with other users.  \n",
    "  \n",
    "There are two guidelines for describing relationships on this social media app:  \n",
    "  \n",
    "Any user can follow any other user.\n",
    "If two users follow each other, they are considered friends.  \n",
    "  \n",
    "**Write a function called relationship_status that takes three positional arguments: (str) from_member, (str) to_member, and (dict) social_graph. The function should determine the relationship status of the first member to the second member based on the data stored in the social graph. The function should return one of these values depending on what is appropriate:**  \n",
    "  \n",
    "* \"follower\", if from_member follows to_member\n",
    "* \"followed by\", if from_member is followed by to_member\n",
    "* \"friends\", if from_member and to_member follow each other\n",
    "* None if none of the above scenarios are applicable  \n",
    "  \n",
    "Specifications:  \n",
    "  \n",
    "1. from_member and to_member are user IDs (e.g. \"@jobenilagan\").\n",
    "2. social_graph is a dictionary that adheres to the specification demonstrated in the demo cell."
   ]
  },
  {
   "cell_type": "code",
   "execution_count": 28,
   "id": "9a8ea7d6",
   "metadata": {},
   "outputs": [],
   "source": [
    "social_graph = {\n",
    "    \"@bongolpoc\":{\"first_name\":\"Joselito\",\n",
    "                  \"last_name\":\"Olpoc\",\n",
    "                  \"following\":[\n",
    "                  ]\n",
    "    },\n",
    "    \"@joaquin\":  {\"first_name\":\"Joaquin\",\n",
    "                  \"last_name\":\"Gonzales\",\n",
    "                  \"following\":[\n",
    "                      \"@chums\",\"@jobenilagan\"\n",
    "                  ]\n",
    "    },\n",
    "    \"@chums\" : {\"first_name\":\"Matthew\",\n",
    "                \"last_name\":\"Uy\",\n",
    "                \"following\":[\n",
    "                    \"@bongolpoc\",\"@miketan\",\"@rudyang\",\"@joeilagan\"\n",
    "                ]\n",
    "    },\n",
    "    \"@jobenilagan\":{\"first_name\":\"Joben\",\n",
    "                   \"last_name\":\"Ilagan\",\n",
    "                   \"following\":[\n",
    "                    \"@eeebeee\",\"@joeilagan\",\"@chums\",\"@joaquin\"\n",
    "                   ]\n",
    "    },\n",
    "    \"@joeilagan\":{\"first_name\":\"Joe\",\n",
    "                  \"last_name\":\"Ilagan\",\n",
    "                  \"following\":[\n",
    "                    \"@eeebeee\",\"@jobenilagan\",\"@chums\"\n",
    "                  ]\n",
    "    },\n",
    "    \"@eeebeee\":  {\"first_name\":\"Elizabeth\",\n",
    "                  \"last_name\":\"Ilagan\",\n",
    "                  \"following\":[\n",
    "                    \"@jobenilagan\",\"@joeilagan\"\n",
    "                  ]\n",
    "    },\n",
    "}\n",
    "\n",
    "def relationship_status(from_member, to_member, social_graph):\n",
    "        from_following = social_graph[from_member][\"following\"]\n",
    "        to_following = social_graph[to_member][\"following\"]\n",
    "        if to_member in from_following and from_member in to_following:\n",
    "            return \"friends\"\n",
    "        elif to_member in from_following:\n",
    "            return \"follower\"\n",
    "        elif from_member in to_following:\n",
    "            return \"followed by\"\n",
    "        else:\n",
    "            return \"None\""
   ]
  },
  {
   "cell_type": "code",
   "execution_count": 29,
   "id": "9587bc1d",
   "metadata": {
    "scrolled": true
   },
   "outputs": [
    {
     "data": {
      "text/plain": [
       "'friends'"
      ]
     },
     "execution_count": 29,
     "metadata": {},
     "output_type": "execute_result"
    }
   ],
   "source": [
    "relationship_status(\"@jobenilagan\",\"@eeebeee\",social_graph)"
   ]
  },
  {
   "cell_type": "code",
   "execution_count": 31,
   "id": "3044ce6b",
   "metadata": {},
   "outputs": [
    {
     "data": {
      "text/plain": [
       "'follower'"
      ]
     },
     "execution_count": 31,
     "metadata": {},
     "output_type": "execute_result"
    }
   ],
   "source": [
    "relationship_status(\"@chums\",\"@bongolpoc\",social_graph)"
   ]
  },
  {
   "cell_type": "code",
   "execution_count": 32,
   "id": "e5ce1f3a",
   "metadata": {
    "scrolled": true
   },
   "outputs": [
    {
     "data": {
      "text/plain": [
       "'followed by'"
      ]
     },
     "execution_count": 32,
     "metadata": {},
     "output_type": "execute_result"
    }
   ],
   "source": [
    "relationship_status(\"@chums\",\"@jobenilagan\",social_graph)"
   ]
  },
  {
   "cell_type": "code",
   "execution_count": null,
   "id": "503b288e",
   "metadata": {},
   "outputs": [],
   "source": []
  },
  {
   "cell_type": "markdown",
   "id": "0057b27b",
   "metadata": {},
   "source": [
    "## Problem 3: Tic Tac Toe (13 points)  \n",
    "  \n",
    "Tic Tac Toe is a common paper-and-pencil game. Players must attempt to successfully draw a straight line of their symbol across a grid. The player that does this first is considered the winner.  \n",
    "  \n",
    "**Write a function called tic_tac_toe that takes one positional argument (list) board. The function should return the winner of the board if there is one, and it should return None if there is no winner on the board.**  \n",
    "  \n",
    "Specifications:  \n",
    "  \n",
    "1. Each player is represented by their symbol. Example: if the player using 'X' won the board, then simply return the string 'X'.\n",
    "2. The board may be 3x3, 4x4, 5x5, or 6x6.\n",
    "3. The game will only ever be player X vs player O. No other symbols will be used.\n",
    "4. There may be no winner, and there may be 1 winner, but there will never be a situation where there is more than 1 winner."
   ]
  },
  {
   "cell_type": "code",
   "execution_count": 11,
   "id": "24b67d37",
   "metadata": {},
   "outputs": [],
   "source": [
    "board1 = [\n",
    "['X','X','O'],\n",
    "['O','X','O'],\n",
    "['O','','X'],\n",
    "]\n",
    "\n",
    "board2 = [\n",
    "['X','X','O'],\n",
    "['O','X','O'],\n",
    "['','O','X'],\n",
    "]\n",
    "\n",
    "board3 = [\n",
    "['O','X','O'],\n",
    "['','O','X'],\n",
    "['X','X','O'],\n",
    "]\n",
    "\n",
    "board4 = [\n",
    "['X','X','X'],\n",
    "['O','X','O'],\n",
    "['O','','O'],\n",
    "]\n",
    "\n",
    "board5 = [\n",
    "['X','X','O'],\n",
    "['O','X','O'],\n",
    "['X','','O'],\n",
    "]\n",
    "\n",
    "board6 = [\n",
    "['X','X','O'],\n",
    "['O','X','O'],\n",
    "['X','',''],\n",
    "]\n",
    "\n",
    "def tic_tac_toe(board):\n",
    "    if [board[0][i]for i in range (3)] == ['X', 'X', 'X']: \n",
    "        return \"winner\"\n",
    "    elif [board[0][i]for i in range (3)] == ['O', 'O', 'O']:\n",
    "        return \"winner\"\n",
    "    elif [board[1][i]for i in range (3)] == ['X', 'X', 'X']: \n",
    "        return \"winner\"\n",
    "    elif [board[1][i]for i in range (3)] == ['O', 'O', 'O']:\n",
    "        return \"winner\"\n",
    "    elif [board[2][i]for i in range (3)] == ['X', 'X', 'X']:\n",
    "        return \"winner\"\n",
    "    elif [board[2][i]for i in range (3)] == ['O', 'O', 'O']:\n",
    "        return \"winner\"\n",
    "    elif [board[i][0]for i in range (3)] == ['X', 'X', 'X']:\n",
    "        return \"winner\"\n",
    "    elif [board[i][0]for i in range (3)] == ['O', 'O', 'O']:\n",
    "        return \"winner\"\n",
    "    elif [board[i][1]for i in range (3)] == ['X', 'X', 'X']:\n",
    "        return \"winner\"\n",
    "    elif [board[i][1]for i in range (3)] == ['O', 'O', 'O']:\n",
    "        return \"winner\"\n",
    "    elif [board[i][2]for i in range (3)] == ['X', 'X', 'X']:\n",
    "        return \"winner\"\n",
    "    elif [board[i][2]for i in range (3)] == ['O', 'O', 'O']:\n",
    "        return \"winner\"\n",
    "    elif [board[i][i]for i in range (3)] == ['X', 'X', 'X']:\n",
    "        return \"winner\"\n",
    "    elif [board[i][i]for i in range (3)] == ['O', 'O', 'O']:\n",
    "        return \"winner\"\n",
    "    elif [board[2-i][i]for i in range (3)] == ['X', 'X', 'X']:\n",
    "        return \"winner\"\n",
    "    elif [board[2-i][i]for i in range (3)] == ['O', 'O', 'O']:\n",
    "        return \"winner\"\n",
    "    else:\n",
    "        return \"None\""
   ]
  },
  {
   "cell_type": "code",
   "execution_count": 12,
   "id": "af6e4f64",
   "metadata": {
    "scrolled": false
   },
   "outputs": [
    {
     "data": {
      "text/plain": [
       "'winner'"
      ]
     },
     "execution_count": 12,
     "metadata": {},
     "output_type": "execute_result"
    }
   ],
   "source": [
    "tic_tac_toe(board1)"
   ]
  },
  {
   "cell_type": "code",
   "execution_count": 13,
   "id": "f702eaa7",
   "metadata": {
    "scrolled": true
   },
   "outputs": [
    {
     "data": {
      "text/plain": [
       "'None'"
      ]
     },
     "execution_count": 13,
     "metadata": {},
     "output_type": "execute_result"
    }
   ],
   "source": [
    "tic_tac_toe(board6)"
   ]
  },
  {
   "cell_type": "code",
   "execution_count": null,
   "id": "46d5f2d9",
   "metadata": {},
   "outputs": [],
   "source": []
  },
  {
   "cell_type": "markdown",
   "id": "84820dbf",
   "metadata": {},
   "source": [
    "## Problem 4: Routing (13 points)  \n",
    "  \n",
    "During the pandemic, a shuttle van service is tasked to travel along a predefined circular route as follows:  \n",
    "  \n",
    "* UP Diliman -> Ateneo de Manila (Estimated Time: 10 mins)\n",
    "* Ateneo de Manila -> De La Salle Taft (Estimated Time: 35 mins)\n",
    "* De La Salle Taft -> UP Diliman (Estimated Time: 55 mins)  \n",
    "  \n",
    "The route is one-way only. So, the van cannot go back directly to UP Diliman from Ateneo de Manila; rather, it will have to drop by De La Salle Taft first before going to UP Diliman.  \n",
    "  \n",
    "**Write a function called eta that takes three positional arguments: (dict) legs, (str) source, and (str) destination. The function should return the estimated number of minutes it will take to reach the destination from the source based on the data stored in the legs dictionary.**  \n",
    "  \n",
    "Specifications:  \n",
    "  \n",
    "1. The legs dictionary adheres to the schema followed in the demo cell.\n",
    "2. There may be more legs than shown in the demo cell.\n",
    "3. Any destination can be reached from any source.  \n",
    "  \n",
    "Please note that you **should not hardcode this problem to only work on the example legs dictionary!** A secret legs dictionary with an unknown number of legs will be used to test this function. This secret legs dictionary will still represent a one-way roundabout."
   ]
  },
  {
   "cell_type": "code",
   "execution_count": 43,
   "id": "de48c3b6",
   "metadata": {},
   "outputs": [],
   "source": [
    "legs = {\n",
    "     (\"upd\",\"admu\"):{\n",
    "         \"travel_time_mins\":10\n",
    "     },\n",
    "     (\"admu\",\"dlsu\"):{\n",
    "         \"travel_time_mins\":35\n",
    "     },\n",
    "     (\"dlsu\",\"upd\"):{\n",
    "         \"travel_time_mins\":55\n",
    "     }\n",
    "}\n",
    "\n",
    "def eta(legs, source, destination):\n",
    "    final_destination = False\n",
    "    distance = 0\n",
    "    while final_destination == False:\n",
    "        for key in legs:\n",
    "            current_location = key[0]\n",
    "            current_destination = key[1]\n",
    "            current_distance = legs[key]['travel_time_mins']\n",
    "            if current_location == source:\n",
    "                source = current_destination\n",
    "                distance += current_distance\n",
    "            if source == destination:\n",
    "                final_destination = True\n",
    "                break\n",
    "    return distance"
   ]
  },
  {
   "cell_type": "code",
   "execution_count": 44,
   "id": "12ff5131",
   "metadata": {
    "scrolled": true
   },
   "outputs": [
    {
     "data": {
      "text/plain": [
       "65"
      ]
     },
     "execution_count": 44,
     "metadata": {},
     "output_type": "execute_result"
    }
   ],
   "source": [
    "eta(legs, \"dlsu\", \"admu\")"
   ]
  },
  {
   "cell_type": "code",
   "execution_count": 45,
   "id": "2e300131",
   "metadata": {},
   "outputs": [
    {
     "data": {
      "text/plain": [
       "55"
      ]
     },
     "execution_count": 45,
     "metadata": {},
     "output_type": "execute_result"
    }
   ],
   "source": [
    "eta(legs, \"dlsu\", \"upd\")"
   ]
  },
  {
   "cell_type": "code",
   "execution_count": null,
   "id": "0f9101dc",
   "metadata": {},
   "outputs": [],
   "source": []
  }
 ],
 "metadata": {
  "kernelspec": {
   "display_name": "Python 3",
   "language": "python",
   "name": "python3"
  },
  "language_info": {
   "codemirror_mode": {
    "name": "ipython",
    "version": 3
   },
   "file_extension": ".py",
   "mimetype": "text/x-python",
   "name": "python",
   "nbconvert_exporter": "python",
   "pygments_lexer": "ipython3",
   "version": "3.8.8"
  }
 },
 "nbformat": 4,
 "nbformat_minor": 5
}
